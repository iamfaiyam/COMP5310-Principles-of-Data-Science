{
 "cells": [
  {
   "cell_type": "markdown",
   "metadata": {},
   "source": [
    "# Machine Learning\n",
    "\n",
    "## EXERCISE 1: Simple linear regression from scratch\n",
    "\n",
    "[Adapted from Data Science from Scratch, Ch. 14.]\n",
    "\n",
    "For this exercise, we'll build simple linear regression from scratch following the text book.\n",
    "\n",
    "We'll use the data from the book's imaginary social network (DataSciencester):\n",
    "\n",
    "* `num_friends` is the friend count for each user.\n",
    "* `daily_minutes` is the average time spend per day on the site for each user."
   ]
  },
  {
   "cell_type": "code",
   "execution_count": 1,
   "metadata": {},
   "outputs": [],
   "source": [
    "num_friends = [100,49,41,40,25,21,21,19,19,18,18,16,15,15,15,15,14,14,13,13,13,13,12,12,11,10,10,10,10,10,10,10,10,10,10,10,10,10,10,10,9,9,9,9,9,9,9,9,9,9,9,9,9,9,9,9,9,9,8,8,8,8,8,8,8,8,8,8,8,8,8,7,7,7,7,7,7,7,7,7,7,7,7,7,7,7,6,6,6,6,6,6,6,6,6,6,6,6,6,6,6,6,6,6,6,6,6,6,5,5,5,5,5,5,5,5,5,5,5,5,5,5,5,5,5,4,4,4,4,4,4,4,4,4,4,4,4,4,4,4,4,4,4,4,4,3,3,3,3,3,3,3,3,3,3,3,3,3,3,3,3,3,3,3,3,2,2,2,2,2,2,2,2,2,2,2,2,2,2,2,2,2,1,1,1,1,1,1,1,1,1,1,1,1,1,1,1,1,1,1,1,1,1,1]\n",
    "daily_minutes = [1,68.77,51.25,52.08,38.36,44.54,57.13,51.4,41.42,31.22,34.76,54.01,38.79,47.59,49.1,27.66,41.03,36.73,48.65,28.12,46.62,35.57,32.98,35,26.07,23.77,39.73,40.57,31.65,31.21,36.32,20.45,21.93,26.02,27.34,23.49,46.94,30.5,33.8,24.23,21.4,27.94,32.24,40.57,25.07,19.42,22.39,18.42,46.96,23.72,26.41,26.97,36.76,40.32,35.02,29.47,30.2,31,38.11,38.18,36.31,21.03,30.86,36.07,28.66,29.08,37.28,15.28,24.17,22.31,30.17,25.53,19.85,35.37,44.6,17.23,13.47,26.33,35.02,32.09,24.81,19.33,28.77,24.26,31.98,25.73,24.86,16.28,34.51,15.23,39.72,40.8,26.06,35.76,34.76,16.13,44.04,18.03,19.65,32.62,35.59,39.43,14.18,35.24,40.13,41.82,35.45,36.07,43.67,24.61,20.9,21.9,18.79,27.61,27.21,26.61,29.77,20.59,27.53,13.82,33.2,25,33.1,36.65,18.63,14.87,22.2,36.81,25.53,24.62,26.25,18.21,28.08,19.42,29.79,32.8,35.99,28.32,27.79,35.88,29.06,36.28,14.1,36.63,37.49,26.9,18.58,38.48,24.48,18.95,33.55,14.24,29.04,32.51,25.63,22.22,19,32.73,15.16,13.9,27.2,32.01,29.27,33,13.74,20.42,27.32,18.23,35.35,28.48,9.08,24.62,20.12,35.26,19.92,31.02,16.49,12.16,30.7,31.22,34.65,13.13,27.51,33.2,31.57,14.1,33.42,17.44,10.12,24.42,9.82,23.39,30.93,15.03,21.67,31.09,33.29,22.61,26.89,23.48,8.38,27.81,32.35,23.84]"
   ]
  },
  {
   "cell_type": "markdown",
   "metadata": {},
   "source": [
    "### Preliminary maths functions\n",
    "\n",
    "First we'll define some linear algebra and stats functions (from Ch. 4&5)."
   ]
  },
  {
   "cell_type": "code",
   "execution_count": 2,
   "metadata": {},
   "outputs": [],
   "source": [
    "import math\n",
    "\n",
    "####\n",
    "#\n",
    "# LINEAR ALGEBRA\n",
    "#\n",
    "####\n",
    "\n",
    "def vector_subtract(v, w):\n",
    "    \"\"\"subtracts two vectors componentwise\"\"\"\n",
    "    return [v_i - w_i for v_i, w_i in zip(v,w)]\n",
    "\n",
    "def dot(v, w):\n",
    "    \"\"\"v_1 * w_1 + ... + v_n * w_n\"\"\"\n",
    "    return sum(v_i * w_i for v_i, w_i in zip(v, w))\n",
    "\n",
    "def sum_of_squares(v):\n",
    "    \"\"\"v_1 * v_1 + ... + v_n * v_n\"\"\"\n",
    "    return dot(v, v)\n",
    "\n",
    "####\n",
    "#\n",
    "# STATS\n",
    "#\n",
    "####\n",
    "\n",
    "def mean(x):\n",
    "    return sum(x) / len(x)\n",
    "\n",
    "def de_mean(x):\n",
    "    \"\"\"translate x by subtracting its mean (so the result has mean 0)\"\"\"\n",
    "    x_bar = mean(x)\n",
    "    return [x_i - x_bar for x_i in x]\n",
    "\n",
    "def variance(x):\n",
    "    \"\"\"assumes x has at least two elements\"\"\"\n",
    "    n = len(x)\n",
    "    deviations = de_mean(x)\n",
    "    return sum_of_squares(deviations) / (n - 1)\n",
    "\n",
    "def standard_deviation(x):\n",
    "    return math.sqrt(variance(x))\n",
    "\n",
    "####\n",
    "#\n",
    "# CORRELATION\n",
    "#\n",
    "#####\n",
    "\n",
    "def covariance(x, y):\n",
    "    n = len(x)\n",
    "    return dot(de_mean(x), de_mean(y)) / (n - 1)\n",
    "\n",
    "def correlation(x, y):\n",
    "    stdev_x = standard_deviation(x)\n",
    "    stdev_y = standard_deviation(y)\n",
    "    if stdev_x > 0 and stdev_y > 0:\n",
    "        return covariance(x, y) / stdev_x / stdev_y\n",
    "    else:\n",
    "        return 0 # if no variation, correlation is zero"
   ]
  },
  {
   "cell_type": "markdown",
   "metadata": {},
   "source": [
    "### TODO Compare to numpy/scipy\n",
    "\n",
    "- Compare our functions above to the `mean`, `var` and `std` functions from `numpy`. Are the results effectively the same?\n",
    "- Compare the correlation above to the `pearsonr` function from `scipy.stats`. Are the results effectively the same?"
   ]
  },
  {
   "cell_type": "code",
   "execution_count": 3,
   "metadata": {},
   "outputs": [
    {
     "name": "stdout",
     "output_type": "stream",
     "text": [
      "Daily Minutes Mean 29.025245098039218\n",
      "Daily Minutes Numpy Mean 29.025245098039214\n",
      "Daily Minutes Variance 100.78589895440929\n",
      "Daily Minutes Numpy Variance 100.29185043012302\n",
      "Daily Minutes Std 10.039218044967908\n",
      "Daily Minutes Numpy Std 10.014581889930454\n",
      "num_friends Mean 7.333333333333333\n",
      "num_friends Numpy Mean 7.333333333333333\n",
      "num_friends Variance 81.54351395730716\n",
      "num_friends Numpy Variance 81.14379084967321\n",
      "num_friends Std 9.03014473623248\n",
      "num_friends Numpy Std 9.007984838446012\n",
      "Correlation 0.24736957366478218\n",
      "Pearsonr (0.2473695736647824, 0.0003610473973450575)\n"
     ]
    }
   ],
   "source": [
    "# TODO: replace the content of this cell with your solution\n",
    "import scipy.stats\n",
    "import numpy as np \n",
    "print(\"Daily Minutes Mean\", mean(daily_minutes))\n",
    "print(\"Daily Minutes Numpy Mean\", np.mean(daily_minutes))\n",
    "\n",
    "print(\"Daily Minutes Variance\", variance(daily_minutes))\n",
    "print(\"Daily Minutes Numpy Variance\", np.var(daily_minutes))\n",
    "\n",
    "print(\"Daily Minutes Std\", standard_deviation(daily_minutes))\n",
    "print(\"Daily Minutes Numpy Std\", np.std(daily_minutes))\n",
    "\n",
    "print(\"num_friends Mean\", mean(num_friends))\n",
    "print(\"num_friends Numpy Mean\", np.mean(num_friends))\n",
    "\n",
    "print(\"num_friends Variance\", variance(num_friends))\n",
    "print(\"num_friends Numpy Variance\", np.var(num_friends))\n",
    "\n",
    "print(\"num_friends Std\", standard_deviation(num_friends))\n",
    "print(\"num_friends Numpy Std\", np.std(num_friends))\n",
    "\n",
    "# The results of Variance and std are not effectively the same\n",
    "# https://stackoverflow.com/questions/41204400/what-is-the-difference-between-numpy-var-and-statistics-variance-in-python\n",
    "\n",
    "print(\"Correlation\", correlation(num_friends, daily_minutes))\n",
    "print(\"Pearsonr\", scipy.stats.pearsonr(num_friends, daily_minutes))"
   ]
  },
  {
   "cell_type": "markdown",
   "metadata": {},
   "source": [
    "### Removing outliers\n",
    "\n",
    "Let's have a look at the data.\n",
    "\n",
    "The data point for somebody who has 100 friends but spends 1 minute per day looks like an outlier. Let's remove it (see pages 64-65 of the text book for a discussion).\n",
    "\n",
    "This leads to much stronger correlation."
   ]
  },
  {
   "cell_type": "code",
   "execution_count": 4,
   "metadata": {},
   "outputs": [
    {
     "name": "stdout",
     "output_type": "stream",
     "text": [
      "\n",
      "Scatter plot for daily minutes vs number of friends:\n"
     ]
    },
    {
     "data": {
      "image/png": "[encoded data removed]",
      "text/plain": [
       "<Figure size 432x288 with 1 Axes>"
      ]
     },
     "metadata": {
      "needs_background": "light"
     },
     "output_type": "display_data"
    }
   ],
   "source": [
    "%matplotlib inline\n",
    "import matplotlib.pyplot as plt\n",
    "\n",
    "print('\\nScatter plot for daily minutes vs number of friends:')\n",
    "_ = plt.scatter(num_friends, daily_minutes)\n",
    "_ = plt.xlim(0,100)\n",
    "_ = plt.ylim(0,100)\n",
    "_ = plt.xlabel('Number of friends')\n",
    "_ = plt.ylabel('Average minutes per day on site')\n",
    "\n",
    "outlier = num_friends.index(100) # index of outlier\n",
    "\n",
    "num_friends_good = [x\n",
    "                    for i, x in enumerate(num_friends)\n",
    "                    if i != outlier]\n",
    "\n",
    "daily_minutes_good = [x\n",
    "                      for i, x in enumerate(daily_minutes)\n",
    "                      if i != outlier]"
   ]
  },
  {
   "cell_type": "code",
   "execution_count": 5,
   "metadata": {},
   "outputs": [
    {
     "name": "stdout",
     "output_type": "stream",
     "text": [
      "Correlation before outlier removal: 0.247\n",
      "Correlation after outlier removal: 0.574\n"
     ]
    }
   ],
   "source": [
    "print('Correlation before outlier removal: {:.3f}'.format(correlation(num_friends, daily_minutes)))\n",
    "print('Correlation after outlier removal: {:.3f}'.format(correlation(num_friends_good, daily_minutes_good)))"
   ]
  },
  {
   "cell_type": "markdown",
   "metadata": {},
   "source": [
    "### Simple linear regression\n",
    "\n",
    "That's the preliminaries all done. Now we can look at linear regression between two variables.\n",
    "\n",
    "Let's assume that we think having more friends causes people to spend more time on the site (see pages 65-67 of the book for a good discussion of caveats and other possible explanations).\n",
    "\n",
    "We're now going to build a simple linear model to describe this relationship.\n",
    "\n",
    "In particular, we assume a model of the form:\n",
    "\n",
    "`y_i = beta * x_i + alpha`\n",
    "\n",
    "Note this takes us right back to [linear equations in algebra](https://en.wikipedia.org/wiki/Linear_equation):\n",
    "\n",
    "`y = mx + b`\n",
    "\n",
    "Looking back at the scatter plot and correlation, this doesn't seems plausible if we assume some noise.\n",
    "\n",
    "Let's see how this works for our data."
   ]
  },
  {
   "cell_type": "code",
   "execution_count": 6,
   "metadata": {},
   "outputs": [
    {
     "name": "stdout",
     "output_type": "stream",
     "text": [
      "alpha 22.94755241346903\n",
      "beta 0.903865945605865\n",
      "r-squared 0.3291078377836305\n"
     ]
    }
   ],
   "source": [
    "def predict(alpha, beta, x_i):\n",
    "    \"\"\"the linear model\n",
    "    alpha and beta are our model parameters\n",
    "    x_i is the data point\n",
    "    return the predicted y value for x_i\"\"\"\n",
    "    return beta * x_i + alpha\n",
    "\n",
    "def error(alpha, beta, x_i, y_i):\n",
    "    \"\"\"the difference between the true y_i\n",
    "    and our predicted y value\"\"\"\n",
    "    return y_i - predict(alpha, beta, x_i)\n",
    "\n",
    "def sum_of_squared_errors(alpha, beta, x, y):\n",
    "    return sum(error(alpha, beta, x_i, y_i) ** 2\n",
    "               for x_i, y_i in zip(x, y))\n",
    "\n",
    "def least_squares_fit(x,y):\n",
    "    \"\"\"given training values for x and y,\n",
    "    find the least-squares values of alpha and beta\"\"\"\n",
    "    beta = correlation(x, y) * standard_deviation(y) / standard_deviation(x)\n",
    "    alpha = mean(y) - beta * mean(x)\n",
    "    return alpha, beta\n",
    "\n",
    "def total_sum_of_squares(y):\n",
    "    \"\"\"the total squared variation of y_i's from their mean\"\"\"\n",
    "    return sum(v ** 2 for v in de_mean(y))\n",
    "\n",
    "def r_squared(alpha, beta, x, y):\n",
    "    \"\"\"the fraction of variation in y captured by the model, which equals\n",
    "    1 - the fraction of variation in y not captured by the model\"\"\"\n",
    "    return 1.0 - (sum_of_squared_errors(alpha, beta, x, y) /\n",
    "                  total_sum_of_squares(y))\n",
    "\n",
    "alpha, beta = least_squares_fit(num_friends_good, daily_minutes_good)\n",
    "print(\"alpha\", alpha)\n",
    "print(\"beta\", beta)\n",
    "\n",
    "r_squared_value = r_squared(alpha, beta, num_friends_good, daily_minutes_good)\n",
    "print(\"r-squared\", r_squared_value)"
   ]
  },
  {
   "cell_type": "markdown",
   "metadata": {},
   "source": [
    "### TODO Assessing fit and precision\n",
    "\n",
    "R-squared gives an indication of [how well the model fits our data](http://blog.minitab.com/blog/adventures-in-statistics/regression-analysis-how-do-i-interpret-r-squared-and-assess-the-goodness-of-fit). It ranges from 0 to 1, with higher values indicating a better fit.\n",
    "\n",
    "Standard error is defined as [the square root of the sum of squared errors divided by N](http://onlinestatbook.com/2/regression/accuracy.html). \n",
    "\n",
    "As a [rule of thumb](https://en.wikipedia.org/wiki/68%E2%80%9395%E2%80%9399.7_rule), we can calculate a 95% confidence interval as [+/- 2 * standard_error from the regression line](http://blog.minitab.com/blog/adventures-in-statistics/regression-analysis-how-to-interpret-s-the-standard-error-of-the-regression).\n",
    "\n",
    "- What r-squared for our model above? Does this indicate a good fit?\n",
    "- Define a `standard_error` function using `sum_of_squared_errors` and `math.sqrt`. What is the standard error of our model?\n",
    "- Redraw the scatterplot from above. This time use `plt.plot` to overlay the regression line and the 95% prediction interval at + and - 2 times the calculated standard error.\n",
    "- Suppose our requirement is that predictions should be +/- 10 minutes of the actual value. Can we say this is with 95% confidence?"
   ]
  },
  {
   "cell_type": "code",
   "execution_count": 8,
   "metadata": {},
   "outputs": [
    {
     "name": "stdout",
     "output_type": "stream",
     "text": [
      "standard error: 0.5658942825951\n"
     ]
    },
    {
     "data": {
      "image/png": "[encoded data removed]",
      "text/plain": [
       "<Figure size 432x288 with 1 Axes>"
      ]
     },
     "metadata": {
      "needs_background": "light"
     },
     "output_type": "display_data"
    }
   ],
   "source": [
    "# r-square is 0.32 close to zero shows that our data is not fit enough to the model \n",
    "\n",
    "def standard_error(alpha, beta, x, y):\n",
    "    return math.sqrt(sum_of_squared_errors(alpha, beta, x, y))/len(x)\n",
    "standard_error_value = standard_error(alpha, beta, num_friends_good, daily_minutes_good)\n",
    "print(\"standard error:\", standard_error_value)\n",
    "\n",
    "_ = plt.scatter(num_friends_good, daily_minutes_good) \n",
    "_ = plt.xlim(0, 100)\n",
    "_ = plt.ylim(0, 100) \n",
    "_ = plt.xlabel('Number of friends')\n",
    "_ = plt.ylabel('Average minutes per day on site')\n",
    "_ = plt.plot([0, 100], [predict(alpha, beta, 0), predict(alpha, beta, 100)], \"r\")\n",
    "_ = plt.plot([0, 100], [predict(alpha, beta, 0)-2*standard_error_value, predict(alpha, beta, 100)-2*standard_error_value], \n",
    "            \"r--\")\n",
    "_ = plt.plot([0, 100], [predict(alpha, beta, 0)+2*standard_error_value, predict(alpha, beta, 100)+2*standard_error_value],\n",
    "            \"r--\")"
   ]
  },
  {
   "cell_type": "markdown",
   "metadata": {},
   "source": [
    "### TODO Compare to scipy\n",
    "\n",
    "- Compare our result to the `linregress` function from `scipy.stats`. Are alpha, beta and r-squared the same?\n",
    "- The `scipy` implementation also returns a p-value for the H0 that slope is 0. What is the p-value? Can we reject the H0 at p<=0.01?\n",
    "\n",
    "Note the scipy implementation returns a standard error, but it the error for the slope coefficient instead of the fitting error."
   ]
  },
  {
   "cell_type": "code",
   "execution_count": 10,
   "metadata": {},
   "outputs": [
    {
     "name": "stdout",
     "output_type": "stream",
     "text": [
      "0.9038659456058725 22.947552413468976 0.57367921156656\n",
      "alpha 22.94755241346903\n",
      "beta 0.903865945605865\n",
      "r-squared 0.3291078377836305\n",
      "p_value 3.6768258627686243e-19\n",
      "Ttest_indResult(statistic=-27.16789263155249, pvalue=3.356790409085195e-93)\n"
     ]
    }
   ],
   "source": [
    "from scipy.stats import linregress \n",
    "\n",
    "# ------------------------------------\n",
    "# linregress\n",
    "slope, intercept, r_value, p_value, se = linregress(num_friends_good, daily_minutes_good) \n",
    "print(slope, intercept, r_value) \n",
    "\n",
    "# our results\n",
    "alpha, beta = least_squares_fit(num_friends_good, daily_minutes_good) \n",
    "print(\"alpha\", alpha) \n",
    "print(\"beta\", beta) \n",
    "r_squared_value = r_squared(alpha, beta, num_friends_good, daily_minutes_good)\n",
    "print(\"r-squared\", r_squared_value) \n",
    "\n",
    "# alpha, beta are same\n",
    "\n",
    "# ------------------------------------\n",
    "print('p_value', p_value) \n",
    "from scipy import stats\n",
    "print(stats.ttest_ind(num_friends_good, daily_minutes_good))\n",
    "\n",
    "# We are unable to reject the H0 that slope is zero."
   ]
  },
  {
   "cell_type": "markdown",
   "metadata": {},
   "source": [
    "## EXERCISE 2: Multiple regression\n",
    "\n",
    "\n",
    "\n",
    "Let's at the [Boston Housing data set](https://archive.ics.uci.edu/ml/datasets/Housing). This contains information about housing values by suburb and related information."
   ]
  },
  {
   "cell_type": "markdown",
   "metadata": {},
   "source": [
    "### Loading and visualising data\n",
    "\n",
    "Let's load the data and have a quick look at some descriptive stats for our features."
   ]
  },
  {
   "cell_type": "code",
   "execution_count": 11,
   "metadata": {},
   "outputs": [
    {
     "name": "stdout",
     "output_type": "stream",
     "text": [
      "dict_keys(['data', 'target', 'feature_names', 'DESCR', 'filename'])\n",
      ".. _boston_dataset:\n",
      "\n",
      "Boston house prices dataset\n",
      "---------------------------\n",
      "\n",
      "**Data Set Characteristics:**  \n",
      "\n",
      "    :Number of Instances: 506 \n",
      "\n",
      "    :Number of Attributes: 13 numeric/categorical predictive. Median Value (attribute 14) is usually the target.\n",
      "\n",
      "    :Attribute Information (in order):\n",
      "        - CRIM     per capita crime rate by town\n",
      "        - ZN       proportion of residential land zoned for lots over 25,000 sq.ft.\n",
      "        - INDUS    proportion of non-retail business acres per town\n",
      "        - CHAS     Charles River dummy variable (= 1 if tract bounds river; 0 otherwise)\n",
      "        - NOX      nitric oxides concentration (parts per 10 million)\n",
      "        - RM       average number of rooms per dwelling\n",
      "        - AGE      proportion of owner-occupied units built prior to 1940\n",
      "        - DIS      weighted distances to five Boston employment centres\n",
      "        - RAD      index of accessibility to radial highways\n",
      "        - TAX      full-value property-tax rate per $10,000\n",
      "        - PTRATIO  pupil-teacher ratio by town\n",
      "        - B        1000(Bk - 0.63)^2 where Bk is the proportion of black people by town\n",
      "        - LSTAT    % lower status of the population\n",
      "        - MEDV     Median value of owner-occupied homes in $1000's\n",
      "\n",
      "    :Missing Attribute Values: None\n",
      "\n",
      "    :Creator: Harrison, D. and Rubinfeld, D.L.\n",
      "\n",
      "This is a copy of UCI ML housing dataset.\n",
      "https://archive.ics.uci.edu/ml/machine-learning-databases/housing/\n",
      "\n",
      "\n",
      "This dataset was taken from the StatLib library which is maintained at Carnegie Mellon University.\n",
      "\n",
      "The Boston house-price data of Harrison, D. and Rubinfeld, D.L. 'Hedonic\n",
      "prices and the demand for clean air', J. Environ. Economics & Management,\n",
      "vol.5, 81-102, 1978.   Used in Belsley, Kuh & Welsch, 'Regression diagnostics\n",
      "...', Wiley, 1980.   N.B. Various transformations are used in the table on\n",
      "pages 244-261 of the latter.\n",
      "\n",
      "The Boston house-price data has been used in many machine learning papers that address regression\n",
      "problems.   \n",
      "     \n",
      ".. topic:: References\n",
      "\n",
      "   - Belsley, Kuh & Welsch, 'Regression diagnostics: Identifying Influential Data and Sources of Collinearity', Wiley, 1980. 244-261.\n",
      "   - Quinlan,R. (1993). Combining Instance-Based and Model-Based Learning. In Proceedings on the Tenth International Conference of Machine Learning, 236-243, University of Massachusetts, Amherst. Morgan Kaufmann.\n",
      "\n"
     ]
    }
   ],
   "source": [
    "from sklearn.datasets import load_boston\n",
    "boston = load_boston()\n",
    "\n",
    "print(boston.keys())\n",
    "print(boston.DESCR)"
   ]
  },
  {
   "cell_type": "code",
   "execution_count": 12,
   "metadata": {},
   "outputs": [
    {
     "name": "stdout",
     "output_type": "stream",
     "text": [
      "Descriptive stats for feature values:\n",
      "-----------------------------------------------------------------\n",
      "Name              Min        Max       Mean      Stdev     Median\n",
      "-----------------------------------------------------------------\n",
      "CRIM             0.01      88.98       3.61       8.59       0.26\n",
      "ZN               0.00     100.00      11.36      23.30       0.00\n",
      "INDUS            0.46      27.74      11.14       6.85       9.69\n",
      "CHAS             0.00       1.00       0.07       0.25       0.00\n",
      "NOX              0.39       0.87       0.55       0.12       0.54\n",
      "RM               3.56       8.78       6.28       0.70       6.21\n",
      "AGE              2.90     100.00      68.57      28.12      77.50\n",
      "DIS              1.13      12.13       3.80       2.10       3.21\n",
      "RAD              1.00      24.00       9.55       8.70       5.00\n",
      "TAX            187.00     711.00     408.24     168.37     330.00\n",
      "PTRATIO         12.60      22.00      18.46       2.16      19.05\n",
      "B                0.32     396.90     356.67      91.20     391.44\n",
      "LSTAT            1.73      37.97      12.65       7.13      11.36\n",
      "-----------------------------------------------------------------\n",
      "\n",
      "Boxplots of feature values:\n"
     ]
    },
    {
     "data": {
      "image/png": "[encoded data removed]",
      "text/plain": [
       "<Figure size 432x288 with 1 Axes>"
      ]
     },
     "metadata": {
      "needs_background": "light"
     },
     "output_type": "display_data"
    }
   ],
   "source": [
    "%matplotlib inline\n",
    "import matplotlib.pyplot as plt\n",
    "import numpy as np\n",
    "\n",
    "def cols_from_rows(data):\n",
    "    cols = [[] for _ in data[0]] # init with empty list for each column\n",
    "    for row in data:\n",
    "        for i, val in enumerate(row):\n",
    "            cols[i].append(val)\n",
    "    return cols\n",
    "\n",
    "print('Descriptive stats for feature values:')\n",
    "cols = cols_from_rows(boston.data)\n",
    "print('-'*65)\n",
    "print('{:10} {:>10} {:>10} {:>10} {:>10} {:>10}'.format('Name', 'Min', 'Max', 'Mean', 'Stdev', 'Median'))\n",
    "print('-'*65)\n",
    "for i, col in enumerate(cols):\n",
    "    print('{:10} {:10.2f} {:10.2f} {:10.2f} {:10.2f} {:10.2f}'\\\n",
    "          .format(boston.feature_names[i], min(col), max(col), np.mean(col), np.std(col), np.median(col)))\n",
    "print('-'*65)\n",
    "    \n",
    "print('\\nBoxplots of feature values:')\n",
    "cols = cols_from_rows(boston.data) + [boston.target]\n",
    "_ = plt.boxplot(cols, vert=False, notch=True, flierprops={'marker':'.'})\n",
    "labels = list(boston.feature_names) + ['VALUE']\n",
    "_ = plt.yticks(range(1,15), labels)"
   ]
  },
  {
   "cell_type": "markdown",
   "metadata": {},
   "source": [
    "### Linear regression in scikit-learn\n",
    "\n",
    "Now let's fit a linear model for predicting a suburbs median house value given the other features."
   ]
  },
  {
   "cell_type": "code",
   "execution_count": 13,
   "metadata": {},
   "outputs": [
    {
     "name": "stdout",
     "output_type": "stream",
     "text": [
      "Intercept: 32.858932634086\n",
      "Coefficients:\n",
      " [-1.56381297e-01  3.85490972e-02 -2.50629921e-02  7.86439684e-01\n",
      " -1.29469121e+01  4.00268857e+00 -1.16023395e-02 -1.36828811e+00\n",
      "  3.41756915e-01 -1.35148823e-02 -9.88866034e-01  1.20588215e-02\n",
      " -4.72644280e-01]\n",
      "\n",
      "R-squared: 0.7551332741779997\n",
      "\n",
      "R-squared: 0.7551332741779997\n",
      "\n",
      "Predicted price of first five neighbourhoods from test split:\n",
      " [37.46723562 31.39154701 27.1201962   6.46843347 33.62966737]\n",
      "\n",
      "R-squared: 0.7551332741779997\n",
      "\n",
      "Standard error: 4.421171617742821\n"
     ]
    }
   ],
   "source": [
    "from sklearn.model_selection import train_test_split\n",
    "from sklearn.linear_model import LinearRegression\n",
    "import math\n",
    "import numpy as np\n",
    "\n",
    "# First let's create a train and test split\n",
    "X_train, X_test, Y_train, Y_test = train_test_split(boston.data, boston.target, test_size=0.33,\n",
    "                                                    random_state=5) # so we get the same results\n",
    "\n",
    "# Now let's fit a model\n",
    "lm = LinearRegression()\n",
    "_ = lm.fit(X_train, Y_train)\n",
    "\n",
    "print('Intercept:', lm.intercept_)\n",
    "print('Coefficients:\\n', lm.coef_)\n",
    "print('\\nR-squared:', lm.score(X_train, Y_train))\n",
    "\n",
    "# We use the score method to get r-squared\n",
    "print('\\nR-squared:', lm.score(X_train, Y_train))\n",
    "\n",
    "# We can predict the median price for a new neighbourhoods\n",
    "print('\\nPredicted price of first five neighbourhoods from test split:\\n', lm.predict(X_test)[:5])\n",
    "\n",
    "# We use the score method to get r-squared\n",
    "print('\\nR-squared:', lm.score(X_train, Y_train))\n",
    "\n",
    "# We can also calculate the standard error\n",
    "stderr = math.sqrt(np.mean((Y_train - lm.predict(X_train))**2))\n",
    "print('\\nStandard error:', stderr)"
   ]
  },
  {
   "cell_type": "markdown",
   "metadata": {},
   "source": [
    "### TODO Evaluating predictions \n",
    "\n",
    "- Does r_squared indicate a good fit?\n",
    "- Use `mean_squared_error` from `sklearn.metrics` to calculate standard error. Compare this to the value we calculated in the previous cell.\n",
    "- According to the 95% prediction interval, how close will our predictions be to the actual value? What if we calculate over the test data instead?\n",
    "\n",
    "[Residual plots](http://docs.statwing.com/interpreting-residual-plots-to-improve-your-regression/) scatter residuals (y_true - y_predicted) on the y-axis versus predicted values on the x-axis. A residual plot indicates that a linear model is appropriate if the points are randomly distributed around the `y=0` line.\n",
    "\n",
    "- Draw a residual plot with training data in blue and test data in green. Is a linear model appropriate for our data? Is prediction performance comparable to training performance?"
   ]
  },
  {
   "cell_type": "code",
   "execution_count": 14,
   "metadata": {},
   "outputs": [
    {
     "name": "stdout",
     "output_type": "stream",
     "text": [
      "\n",
      "Train Standard error: 4.421171617742821\n",
      "\n",
      "Test Standard error: 5.341391089030526\n",
      "\n",
      "Train mean_squared_error 19.54675847353467\n",
      "\n",
      "Test mean_squared_error 28.530458765974707\n"
     ]
    },
    {
     "data": {
      "image/png": "[encoded data removed]",
      "text/plain": [
       "<Figure size 432x288 with 1 Axes>"
      ]
     },
     "metadata": {
      "needs_background": "light"
     },
     "output_type": "display_data"
    }
   ],
   "source": [
    "# TODO: replace the content of this cell with your solution\n",
    "#  r_squared is 0.7611 close to 1 which means that it is a good fit\n",
    "\n",
    "train_stderr = math.sqrt(np.mean((Y_train - lm.predict(X_train))**2))\n",
    "print('\\nTrain Standard error:', train_stderr)\n",
    "\n",
    "test_stderr = math.sqrt(np.mean((Y_test - lm.predict(X_test))**2))\n",
    "print('\\nTest Standard error:', test_stderr)\n",
    "\n",
    "from sklearn.metrics import mean_squared_error\n",
    "print('\\nTrain mean_squared_error', mean_squared_error(Y_train, lm.predict(X_train), squared=True))\n",
    "\n",
    "print('\\nTest mean_squared_error', mean_squared_error(Y_test, lm.predict(X_test), squared=True))\n",
    "\n",
    "# calculate a 95% confidence interval as +/- 2 * standard_error from the regression line\n",
    "# For train data, which is +/- 2 * Train Standard error \n",
    "# For test data, which is +/- 2 * Test Standard error\n",
    "_ = plt.scatter(num_friends_good, daily_minutes_good)\n",
    "_ = plt.xlim(0,100)\n",
    "_ = plt.ylim(0,100)\n",
    "_ = plt.xlabel('Number of firends')\n",
    "_ = plt.ylabel('Average minutes per day on site')\n",
    "_ = plt.plot([0,100],[predict(alpha, beta, 0), predict(alpha, beta, 100)], \"r\")\n",
    "_ = plt.plot([0,100],[predict(alpha, beta, 0)-2*train_stderr, predict(alpha, beta, 100)-2*train_stderr],\"b--\")\n",
    "_ = plt.plot([0,100],[predict(alpha, beta, 0)+2*train_stderr, predict(alpha,beta, 100)+2*train_stderr],\"b--\")\n",
    "_ = plt.plot([0,100],[predict(alpha, beta, 0)-2*test_stderr, predict(alpha,beta, 100)-2*test_stderr],\"g--\")\n",
    "_ = plt.plot([0,100],[predict(alpha, beta, 0)+2*test_stderr, predict(alpha,beta, 100)+2*test_stderr],\"g--\")\n",
    "\n",
    "# Most of data fall between the confidence interval no mater we use test or train data."
   ]
  },
  {
   "cell_type": "markdown",
   "metadata": {},
   "source": [
    "## EXERCISE 3: Logistic regression\n",
    "\n",
    "\n",
    "\n",
    "We'll use the Iris data set. Like the digits data, this is another classic machine learning data set.\n",
    "\n",
    "### Loading and visualising data\n",
    "\n",
    "Let's load the data and have a quick look at some descriptive stats for our features."
   ]
  },
  {
   "cell_type": "code",
   "execution_count": 15,
   "metadata": {},
   "outputs": [
    {
     "name": "stdout",
     "output_type": "stream",
     "text": [
      ".. _iris_dataset:\n",
      "\n",
      "Iris plants dataset\n",
      "--------------------\n",
      "\n",
      "**Data Set Characteristics:**\n",
      "\n",
      "    :Number of Instances: 150 (50 in each of three classes)\n",
      "    :Number of Attributes: 4 numeric, predictive attributes and the class\n",
      "    :Attribute Information:\n",
      "        - sepal length in cm\n",
      "        - sepal width in cm\n",
      "        - petal length in cm\n",
      "        - petal width in cm\n",
      "        - class:\n",
      "                - Iris-Setosa\n",
      "                - Iris-Versicolour\n",
      "                - Iris-Virginica\n",
      "                \n",
      "    :Summary Statistics:\n",
      "\n",
      "    ============== ==== ==== ======= ===== ====================\n",
      "                    Min  Max   Mean    SD   Class Correlation\n",
      "    ============== ==== ==== ======= ===== ====================\n",
      "    sepal length:   4.3  7.9   5.84   0.83    0.7826\n",
      "    sepal width:    2.0  4.4   3.05   0.43   -0.4194\n",
      "    petal length:   1.0  6.9   3.76   1.76    0.9490  (high!)\n",
      "    petal width:    0.1  2.5   1.20   0.76    0.9565  (high!)\n",
      "    ============== ==== ==== ======= ===== ====================\n",
      "\n",
      "    :Missing Attribute Values: None\n",
      "    :Class Distribution: 33.3% for each of 3 classes.\n",
      "    :Creator: R.A. Fisher\n",
      "    :Donor: Michael Marshall (MARSHALL%PLU@io.arc.nasa.gov)\n",
      "    :Date: July, 1988\n",
      "\n",
      "The famous Iris database, first used by Sir R.A. Fisher. The dataset is taken\n",
      "from Fisher's paper. Note that it's the same as in R, but not as in the UCI\n",
      "Machine Learning Repository, which has two wrong data points.\n",
      "\n",
      "This is perhaps the best known database to be found in the\n",
      "pattern recognition literature.  Fisher's paper is a classic in the field and\n",
      "is referenced frequently to this day.  (See Duda & Hart, for example.)  The\n",
      "data set contains 3 classes of 50 instances each, where each class refers to a\n",
      "type of iris plant.  One class is linearly separable from the other 2; the\n",
      "latter are NOT linearly separable from each other.\n",
      "\n",
      ".. topic:: References\n",
      "\n",
      "   - Fisher, R.A. \"The use of multiple measurements in taxonomic problems\"\n",
      "     Annual Eugenics, 7, Part II, 179-188 (1936); also in \"Contributions to\n",
      "     Mathematical Statistics\" (John Wiley, NY, 1950).\n",
      "   - Duda, R.O., & Hart, P.E. (1973) Pattern Classification and Scene Analysis.\n",
      "     (Q327.D83) John Wiley & Sons.  ISBN 0-471-22361-1.  See page 218.\n",
      "   - Dasarathy, B.V. (1980) \"Nosing Around the Neighborhood: A New System\n",
      "     Structure and Classification Rule for Recognition in Partially Exposed\n",
      "     Environments\".  IEEE Transactions on Pattern Analysis and Machine\n",
      "     Intelligence, Vol. PAMI-2, No. 1, 67-71.\n",
      "   - Gates, G.W. (1972) \"The Reduced Nearest Neighbor Rule\".  IEEE Transactions\n",
      "     on Information Theory, May 1972, 431-433.\n",
      "   - See also: 1988 MLC Proceedings, 54-64.  Cheeseman et al\"s AUTOCLASS II\n",
      "     conceptual clustering system finds 3 classes in the data.\n",
      "   - Many, many more ...\n"
     ]
    }
   ],
   "source": [
    "from sklearn.datasets import load_iris\n",
    "iris = load_iris()\n",
    "print(iris.DESCR)"
   ]
  },
  {
   "cell_type": "code",
   "execution_count": 16,
   "metadata": {},
   "outputs": [
    {
     "name": "stdout",
     "output_type": "stream",
     "text": [
      "Descriptive stats for feature values:\n",
      "---------------------------------------------------------------------------\n",
      "Name                        Min        Max       Mean      Stdev     Median\n",
      "---------------------------------------------------------------------------\n",
      "sepal length (cm)          4.30       7.90       5.84       0.83       5.80\n",
      "sepal width (cm)           2.00       4.40       3.06       0.43       3.00\n",
      "petal length (cm)          1.00       6.90       3.76       1.76       4.35\n",
      "petal width (cm)           0.10       2.50       1.20       0.76       1.30\n",
      "---------------------------------------------------------------------------\n",
      "\n",
      "Boxplots of feature values:\n"
     ]
    },
    {
     "data": {
      "image/png": "[encoded data removed]",
      "text/plain": [
       "<Figure size 432x288 with 1 Axes>"
      ]
     },
     "metadata": {
      "needs_background": "light"
     },
     "output_type": "display_data"
    }
   ],
   "source": [
    "%matplotlib inline\n",
    "import matplotlib.pyplot as plt\n",
    "import numpy as np\n",
    "\n",
    "def cols_from_rows(data):\n",
    "    cols = [[] for _ in data[0]] # init with empty list for each column\n",
    "    for row in data:\n",
    "        for i, val in enumerate(row):\n",
    "            cols[i].append(val)\n",
    "    return cols\n",
    "\n",
    "print('Descriptive stats for feature values:')\n",
    "cols = cols_from_rows(iris.data)\n",
    "print('-'*75)\n",
    "print('{:20} {:>10} {:>10} {:>10} {:>10} {:>10}'.format('Name', 'Min', 'Max', 'Mean', 'Stdev', 'Median'))\n",
    "print('-'*75)\n",
    "for i, col in enumerate(cols):\n",
    "    print('{:20} {:10.2f} {:10.2f} {:10.2f} {:10.2f} {:10.2f}'\\\n",
    "          .format(iris.feature_names[i], min(col), max(col), np.mean(col), np.std(col), np.median(col)))\n",
    "print('-'*75)\n",
    "    \n",
    "print('\\nBoxplots of feature values:')\n",
    "_ = plt.boxplot(cols_from_rows(iris.data), vert=False, notch=True, flierprops={'marker':'.'})\n",
    "_ = plt.yticks(range(1,5), iris.feature_names)"
   ]
  },
  {
   "cell_type": "markdown",
   "metadata": {},
   "source": [
    "### Logistic regression in scikit-learn\n",
    "\n",
    "Now let's use logistic regression to learn a model of iris type given sepal and petal measurements."
   ]
  },
  {
   "cell_type": "code",
   "execution_count": 17,
   "metadata": {},
   "outputs": [
    {
     "name": "stdout",
     "output_type": "stream",
     "text": [
      "Intercept: [  8.77541301   1.60989219 -10.38530519]\n",
      "Coefficients:\n",
      " [[-0.40882379  0.8471058  -2.20548191 -0.96488141]\n",
      " [ 0.60527175 -0.44107978 -0.16035026 -0.8906139 ]\n",
      " [-0.19644796 -0.40602602  2.36583217  1.85549531]]\n",
      "\n",
      "Predicted type of first five organisms from test split: [1 2 2 0 2]\n",
      "Actual type of first five organisms from test split: [1 2 2 0 2]\n"
     ]
    }
   ],
   "source": [
    "from sklearn.model_selection import train_test_split\n",
    "from sklearn.linear_model import LogisticRegression\n",
    "\n",
    "# First let's create a train and test split\n",
    "X_train, X_test, Y_train, Y_test = train_test_split(iris.data, iris.target, test_size=0.33,\n",
    "                                                    random_state=5) # so we get the same results\n",
    "\n",
    "# Now let's fit a model\n",
    "logreg = LogisticRegression()\n",
    "_ = logreg.fit(X_train, Y_train)\n",
    "\n",
    "print('Intercept:', logreg.intercept_)\n",
    "print('Coefficients:\\n', logreg.coef_)\n",
    "\n",
    "# We can predict the type of new organisms given measurements\n",
    "print('\\nPredicted type of first five organisms from test split:', logreg.predict(X_test)[:5])\n",
    "print('Actual type of first five organisms from test split:', Y_test[:5])"
   ]
  },
  {
   "cell_type": "markdown",
   "metadata": {},
   "source": [
    "### Evaluating classification\n",
    "\n",
    "Recall that `sklearn.metrics` includes various evaluation measures. "
   ]
  },
  {
   "cell_type": "code",
   "execution_count": 18,
   "metadata": {},
   "outputs": [
    {
     "name": "stdout",
     "output_type": "stream",
     "text": [
      "Classification report (0=setosa, 1=versicolor, 2=virginica):\n",
      "\n",
      "              precision    recall  f1-score   support\n",
      "\n",
      "           0       1.00      1.00      1.00        16\n",
      "           1       1.00      0.94      0.97        17\n",
      "           2       0.94      1.00      0.97        17\n",
      "\n",
      "    accuracy                           0.98        50\n",
      "   macro avg       0.98      0.98      0.98        50\n",
      "weighted avg       0.98      0.98      0.98        50\n",
      "\n",
      "Predicted   0   1   2\n",
      "Actual               \n",
      "0          16   0   0\n",
      "1           0  16   1\n",
      "2           0   0  17\n"
     ]
    }
   ],
   "source": [
    "from sklearn.metrics import classification_report\n",
    "import pandas as pd\n",
    "key=', '.join(['{}={}'.format(i,name) for i,name in enumerate(iris.target_names)])\n",
    "print('Classification report ({}):\\n'.format(key))\n",
    "print(classification_report(Y_test, logreg.predict(X_test)))\n",
    "\n",
    "y_actu = pd.Series(Y_test, name='Actual')\n",
    "y_pred_s1 = pd.Series(logreg.predict(X_test), name='Predicted')\n",
    "confusion_matrix = pd.crosstab(y_actu, y_pred_s1)\n",
    "print(confusion_matrix)\n"
   ]
  },
  {
   "cell_type": "code",
   "execution_count": 19,
   "metadata": {},
   "outputs": [
    {
     "name": "stdout",
     "output_type": "stream",
     "text": [
      "Confusion matrix (0=setosa, 1=versicolor, 2=virginica):\n",
      "\n"
     ]
    },
    {
     "data": {
      "image/png": "[encoded data removed]",
      "text/plain": [
       "<Figure size 288x288 with 2 Axes>"
      ]
     },
     "metadata": {
      "needs_background": "light"
     },
     "output_type": "display_data"
    }
   ],
   "source": [
    "%matplotlib inline\n",
    "from sklearn.metrics import confusion_matrix\n",
    "import matplotlib.pyplot as plt\n",
    "\n",
    "print('Confusion matrix ({}):\\n'.format(key))\n",
    "_ = plt.matshow(confusion_matrix(Y_test, logreg.predict(X_test) ), cmap=plt.cm.binary, interpolation='nearest')\n",
    "_ = plt.colorbar()\n",
    "_ = plt.ylabel('true label')\n",
    "_ = plt.xlabel('predicted label')\n"
   ]
  },
  {
   "cell_type": "markdown",
   "metadata": {},
   "source": [
    "### TODO Choose parameters using grid search\n",
    "\n",
    "\n",
    "- Choose the best C values in [1, 10, 100, 1000, 10000, 100000, 1000000] and the best penalty in ['l1', 'l2']\n",
    "- Which is the best C? Which is the best penalty?\n",
    "- How do precision, recall and f1 scores compare?"
   ]
  },
  {
   "cell_type": "code",
   "execution_count": 20,
   "metadata": {},
   "outputs": [
    {
     "name": "stdout",
     "output_type": "stream",
     "text": [
      "Mean Accuracy: 0.980\n",
      "Best params: {'C': 10, 'penalty': 'l2'}\n",
      "Predicted   0   1   2\n",
      "Actual               \n",
      "0          16   0   0\n",
      "1           0  16   1\n",
      "2           0   1  16\n"
     ]
    }
   ],
   "source": [
    "# TODO: replace the content of this cell with your solution\n",
    "import warnings\n",
    "warnings.filterwarnings('ignore')\n",
    "from sklearn.model_selection import GridSearchCV\n",
    "\n",
    "LR = LogisticRegression()\n",
    "LRparam_grid = {'C': [1, 10, 100, 1000, 10000, 100000, 1000000], 'penalty': ['l1', 'l2']}\n",
    "LR_search = GridSearchCV(LR, param_grid=LRparam_grid, refit = True, cv=5)\n",
    "\n",
    "# fitting the model for grid search \n",
    "LR_search.fit(X_train , Y_train)\n",
    "\n",
    "# summarize\n",
    "print('Mean Accuracy: %.3f' % LR_search.best_score_)\n",
    "print('Best params: %s' % LR_search.best_params_)\n",
    "\n",
    "y_actu = pd.Series(Y_test, name='Actual')\n",
    "y_pred_s1 = pd.Series(LR_search.predict(X_test), name='Predicted')\n",
    "confusion_matrix = pd.crosstab(y_actu, y_pred_s1)\n",
    "print(confusion_matrix)"
   ]
  }
 ],
 "metadata": {
  "kernelspec": {
   "display_name": "Python 3 (ipykernel)",
   "language": "python",
   "name": "python3"
  },
  "language_info": {
   "codemirror_mode": {
    "name": "ipython",
    "version": 3
   },
   "file_extension": ".py",
   "mimetype": "text/x-python",
   "name": "python",
   "nbconvert_exporter": "python",
   "pygments_lexer": "ipython3",
   "version": "3.9.7"
  },
  "vscode": {
   "interpreter": {
    "hash": "bea42e1b0e07028483ba0ff26b9b4dc4fa162e9d0ccb6b0507d54b9d42d30653"
   }
  }
 },
 "nbformat": 4,
 "nbformat_minor": 1
}
